{
  "nbformat": 4,
  "nbformat_minor": 0,
  "metadata": {
    "colab": {
      "name": "script_(1).ipynb",
      "version": "0.3.2",
      "views": {},
      "default_view": {},
      "provenance": [],
      "collapsed_sections": [
        "CS_CfEI2IHGB"
      ]
    },
    "kernelspec": {
      "display_name": "Python [default]",
      "language": "python",
      "name": "python3"
    },
    "accelerator": "GPU"
  },
  "cells": [
    {
      "metadata": {
        "id": "5D2rANFMII5m",
        "colab_type": "code",
        "colab": {
          "autoexec": {
            "startup": false,
            "wait_interval": 0
          }
        }
      },
      "cell_type": "code",
      "source": [
        "# Install a Drive FUSE wrapper.\n",
        "# https://github.com/astrada/google-drive-ocamlfuse\n",
        "!apt-get install -y -qq software-properties-common python-software-properties module-init-tools\n",
        "!add-apt-repository -y ppa:alessandro-strada/ppa 2>&1 > /dev/null\n",
        "!apt-get update -qq 2>&1 > /dev/null\n",
        "!apt-get -y install -qq google-drive-ocamlfuse fuse\n",
        "\n",
        "# Generate auth tokens for Colab\n",
        "from google.colab import auth\n",
        "auth.authenticate_user()\n",
        "\n",
        "# Generate creds for the Drive FUSE library.\n",
        "from oauth2client.client import GoogleCredentials\n",
        "creds = GoogleCredentials.get_application_default()\n",
        "import getpass\n",
        "!google-drive-ocamlfuse -headless -id={creds.client_id} -secret={creds.client_secret} < /dev/null 2>&1 | grep URL\n",
        "vcode = getpass.getpass()\n",
        "!echo {vcode} | google-drive-ocamlfuse -headless -id={creds.client_id} -secret={creds.client_secret}\n",
        "\n",
        "!mkdir -p drive\n",
        "!google-drive-ocamlfuse drive"
      ],
      "execution_count": 0,
      "outputs": []
    },
    {
      "metadata": {
        "id": "kkRjB5_GI2tc",
        "colab_type": "code",
        "colab": {
          "autoexec": {
            "startup": false,
            "wait_interval": 0
          }
        }
      },
      "cell_type": "code",
      "source": [
        "ls drive/tmp/data"
      ],
      "execution_count": 0,
      "outputs": []
    },
    {
      "metadata": {
        "id": "_YWansuGJ2CD",
        "colab_type": "text"
      },
      "cell_type": "markdown",
      "source": [
        "!apt-get -qq install --no-install-recommends nvidia-375\n",
        "!apt-get -qq install --no-install-recommends nvidia-opencl-icd-375 nvidia-opencl-dev opencl-headers\n",
        "!apt-get -qq install --no-install-recommends git cmake build-essential libboost-dev libboost-system-dev libboost-filesystem-dev\n",
        "!pip3 install -qq lightgbm --install-option=--gpu"
      ]
    },
    {
      "metadata": {
        "id": "O_AtcIFGIHFL",
        "colab_type": "text"
      },
      "cell_type": "markdown",
      "source": [
        "# Coding Log\n",
        "---\n",
        "## Start with Linear Regression \n",
        "    - variable - region, parent_category_name, category_name, user_type >> 0.2472 \n",
        "\n",
        "## Try LightGBM\n",
        "    - variable - region, parent_category_name, category_name, user_type >> 0.2412 \n",
        "    \n",
        "#### Hard to keep all matrix due to memory limitation\n",
        "#### So.....\n",
        "\n",
        "## Change Model to NN (feat. Keras)\n",
        "|  Model        | Variables                            | Val_loss  | LB |\n",
        "| ------------- |:-------------------------------- | -----:| -----:|\n",
        "|||||\n",
        "| Linear Reg | region, pcn, cn, ut  | Unknown | 0.2472 |\n",
        "| LightGBM | region, pcn, cn, ut  | 0.2351 | 0.2412 |\n",
        "|||||\n",
        "| NN      | region | 0.2588 | 0.3032 | \n",
        "| NN      | region, pcn      | 0.2475 | 0.2537 |\n",
        "| NN      | region, pcn, cn    |  0.2430 |  0.2488 |\n",
        "| NN      | region, pcn, cn, ut    | 0.2407 |  0.2459 | \n",
        "| NN      | region, pcn, cn, ut, city   |   0.2402 |  Unkonwn |\n",
        "| NN      | region, pcn, cn, ut, city, price  |    0.2370  | Unkonwn |\n",
        "| NN      | region, pcn, cn, ut, city, price, p1, p2, p3  |    0.2268  | 0.2320 |\n",
        "| NN      | region, pcn, cn, ut, city, price, p1, p2, p3, itemseq  |    0.2255  | 0.2304 |\n",
        "\n",
        "***\n",
        "***"
      ]
    },
    {
      "metadata": {
        "id": "tfgvQE72IHFN",
        "colab_type": "text"
      },
      "cell_type": "markdown",
      "source": [
        "# Import  basic"
      ]
    },
    {
      "metadata": {
        "id": "dBLR6SM0IHFP",
        "colab_type": "code",
        "colab": {
          "autoexec": {
            "startup": false,
            "wait_interval": 0
          }
        }
      },
      "cell_type": "code",
      "source": [
        "import numpy as np\n",
        "import pandas as pd\n",
        "import gc\n",
        "import os\n",
        "import pickle"
      ],
      "execution_count": 0,
      "outputs": []
    },
    {
      "metadata": {
        "id": "nql5ZYM4IHFT",
        "colab_type": "text"
      },
      "cell_type": "markdown",
      "source": [
        "# Data Load"
      ]
    },
    {
      "metadata": {
        "id": "9SMhZ3TRIHFU",
        "colab_type": "code",
        "colab": {
          "autoexec": {
            "startup": false,
            "wait_interval": 0
          }
        }
      },
      "cell_type": "code",
      "source": [
        "df_x_train = pd.read_csv('drive/tmp/data/train.csv')\n",
        "df_test = pd.read_csv('drive/tmp/data/test.csv')\n",
        "\n",
        "df_y_train = df_x_train['deal_probability']\n",
        "df_x_train = df_x_train.drop(['deal_probability'], axis=1)"
      ],
      "execution_count": 0,
      "outputs": []
    },
    {
      "metadata": {
        "id": "HGLpmPTMIHFX",
        "colab_type": "code",
        "colab": {
          "autoexec": {
            "startup": false,
            "wait_interval": 0
          }
        }
      },
      "cell_type": "code",
      "source": [
        "df_x_train.activation_date.unique()"
      ],
      "execution_count": 0,
      "outputs": []
    },
    {
      "metadata": {
        "id": "n71-4_24IHFc",
        "colab_type": "code",
        "colab": {
          "autoexec": {
            "startup": false,
            "wait_interval": 0
          }
        }
      },
      "cell_type": "code",
      "source": [
        "df_x_train.info()"
      ],
      "execution_count": 0,
      "outputs": []
    },
    {
      "metadata": {
        "id": "E6aEETKTIHFf",
        "colab_type": "code",
        "colab": {
          "autoexec": {
            "startup": false,
            "wait_interval": 0
          }
        }
      },
      "cell_type": "code",
      "source": [
        "df_test.info()"
      ],
      "execution_count": 0,
      "outputs": []
    },
    {
      "metadata": {
        "id": "gQB5snAdIHFi",
        "colab_type": "code",
        "colab": {
          "autoexec": {
            "startup": false,
            "wait_interval": 0
          }
        }
      },
      "cell_type": "code",
      "source": [
        "# viewing # of unique value in each column \n",
        "for col in df_x_train.columns:\n",
        "    print(col, len(df_x_train[col].unique()))"
      ],
      "execution_count": 0,
      "outputs": []
    },
    {
      "metadata": {
        "id": "R8kDO4E1IHFm",
        "colab_type": "text"
      },
      "cell_type": "markdown",
      "source": [
        "## Variable Plan\n",
        "\n",
        "    item_id 1503424              => drop\n",
        "    user_id 771769               => drop\n",
        "    region 28                    => (added)categorical embedding\n",
        "    city 1733                    => (added)categorical embedding\n",
        "    parent_category_name 9       => (added)categorical embedding\n",
        "    category_name 47             => (added)categorical embedding\n",
        "    param_1 372                  => (added)categorical embedding\n",
        "    param_2 272                  => (added)categorical embedding\n",
        "    param_3 1220                 => (added)categorical embedding \n",
        "    title 788377                 => deal with nlp\n",
        "    description 1317103          => (added)word embedding, LSTM\n",
        "    price 17007                  => (added)continuous, log\n",
        "    item_seq_number 28232        => continuous, log\n",
        "    activation_date 21           => (added)weekday, categorical\n",
        "    user_type 3                  => (added)categorical embedding\n",
        "    image 1390837                => image_feature (VGG, Resnet, inception) ***\n",
        "    image_top_1 3063             => (added)categorical"
      ]
    },
    {
      "metadata": {
        "id": "vPQ35oCDIHFo",
        "colab_type": "text"
      },
      "cell_type": "markdown",
      "source": [
        "# Fill NA"
      ]
    },
    {
      "metadata": {
        "id": "vWiTJ0HAIHFo",
        "colab_type": "code",
        "colab": {
          "autoexec": {
            "startup": false,
            "wait_interval": 0
          }
        }
      },
      "cell_type": "code",
      "source": [
        "df_x_train['image_top_1'].fillna(value=3067, inplace=True)\n",
        "df_test['image_top_1'].fillna(value=3067, inplace=True)"
      ],
      "execution_count": 0,
      "outputs": []
    },
    {
      "metadata": {
        "id": "HtgDS1YaIHFr",
        "colab_type": "code",
        "colab": {
          "autoexec": {
            "startup": false,
            "wait_interval": 0
          }
        }
      },
      "cell_type": "code",
      "source": [
        "df_x_train['param_1'].fillna(value='_NA_', inplace=True)\n",
        "df_test['param_1'].fillna(value='_NA_', inplace=True)\n",
        "\n",
        "df_x_train['param_2'].fillna(value='_NA_', inplace=True)\n",
        "df_test['param_2'].fillna(value='_NA_', inplace=True)\n",
        "\n",
        "df_x_train['param_3'].fillna(value='_NA_', inplace=True)\n",
        "df_test['param_3'].fillna(value='_NA_', inplace=True)"
      ],
      "execution_count": 0,
      "outputs": []
    },
    {
      "metadata": {
        "id": "6x0p5RuCIHFt",
        "colab_type": "code",
        "colab": {
          "autoexec": {
            "startup": false,
            "wait_interval": 0
          }
        }
      },
      "cell_type": "code",
      "source": [
        "df_x_train['title'].fillna(value='_NA_', inplace=True)\n",
        "df_test['title'].fillna(value='_NA_', inplace=True)\n",
        "df_x_train['description'].fillna(value='_NA_', inplace=True)\n",
        "df_test['description'].fillna(value='_NA_', inplace=True)"
      ],
      "execution_count": 0,
      "outputs": []
    },
    {
      "metadata": {
        "id": "utinSVkhIHFv",
        "colab_type": "text"
      },
      "cell_type": "markdown",
      "source": [
        "# Preprocess"
      ]
    },
    {
      "metadata": {
        "id": "dWHJ-g2MIHFw",
        "colab_type": "code",
        "colab": {
          "autoexec": {
            "startup": false,
            "wait_interval": 0
          }
        }
      },
      "cell_type": "code",
      "source": [
        "from keras.preprocessing.text import Tokenizer\n",
        "from keras.utils import to_categorical\n",
        "import argparse\n",
        "\n",
        "#create config init\n",
        "config = argparse.Namespace()"
      ],
      "execution_count": 0,
      "outputs": []
    },
    {
      "metadata": {
        "id": "VLRHvSAUIHFy",
        "colab_type": "text"
      },
      "cell_type": "markdown",
      "source": [
        "### Categorical Variables - region, pcn, cn, ut, city, p1, p2, p3, week, imgt1"
      ]
    },
    {
      "metadata": {
        "id": "wTOOiFG-IHFz",
        "colab_type": "code",
        "colab": {
          "autoexec": {
            "startup": false,
            "wait_interval": 0
          }
        }
      },
      "cell_type": "code",
      "source": [
        "def tknzr_fit(col, df_trn, df_test):\n",
        "    tknzr = Tokenizer(filters='', lower=False, split='뷁' )\n",
        "    tknzr.fit_on_texts(df_trn[col])\n",
        "    tknzr.fit_on_texts(df_test[col])\n",
        "    return np.array(tknzr.texts_to_sequences(df_trn[col])), np.array(tknzr.texts_to_sequences(df_test[col])), tknzr"
      ],
      "execution_count": 0,
      "outputs": []
    },
    {
      "metadata": {
        "id": "GybSwSNvIHF3",
        "colab_type": "code",
        "colab": {
          "autoexec": {
            "startup": false,
            "wait_interval": 0
          }
        }
      },
      "cell_type": "code",
      "source": [
        "tr_reg, te_reg, tknzr_reg = tknzr_fit('region', df_x_train, df_test)\n",
        "tr_pcn, te_pcn, tknzr_pcn = tknzr_fit('parent_category_name', df_x_train, df_test)\n",
        "tr_cn, te_cn, tknzr_cn = tknzr_fit('category_name', df_x_train, df_test)\n",
        "tr_ut, te_ut, tknzr_ut = tknzr_fit('user_type', df_x_train, df_test)\n",
        "tr_city, te_city, tknzr_city = tknzr_fit('city', df_x_train, df_test)\n",
        "\n",
        "tr_p1, te_p1, tknzr_p1 = tknzr_fit('param_1', df_x_train, df_test)\n",
        "tr_p2, te_p2, tknzr_p2 = tknzr_fit('param_2', df_x_train, df_test)\n",
        "tr_p3, te_p3, tknzr_p3 = tknzr_fit('param_3', df_x_train, df_test)"
      ],
      "execution_count": 0,
      "outputs": []
    },
    {
      "metadata": {
        "id": "EG4Ufoi6IHF5",
        "colab_type": "code",
        "colab": {
          "autoexec": {
            "startup": false,
            "wait_interval": 0
          }
        }
      },
      "cell_type": "code",
      "source": [
        "tr_week = pd.to_datetime(df_x_train['activation_date']).dt.weekday.astype(np.int32).values\n",
        "te_week = pd.to_datetime(df_test['activation_date']).dt.weekday.astype(np.int32).values\n",
        "tr_day = pd.to_datetime(df_x_train['activation_date']).dt.day.astype(np.int32).values\n",
        "te_day = pd.to_datetime(df_test['activation_date']).dt.day.astype(np.int32).values\n",
        "\n",
        "tr_week = np.expand_dims(tr_week, axis=-1)\n",
        "te_week = np.expand_dims(te_week, axis=-1)\n",
        "tr_day = np.expand_dims(tr_day, axis=-1)\n",
        "te_day = np.expand_dims(te_day, axis=-1)"
      ],
      "execution_count": 0,
      "outputs": []
    },
    {
      "metadata": {
        "id": "NWseFoq0IHF7",
        "colab_type": "code",
        "colab": {
          "autoexec": {
            "startup": false,
            "wait_interval": 0
          }
        }
      },
      "cell_type": "code",
      "source": [
        "tr_imgt1 = df_x_train['image_top_1'].astype(np.int32).values\n",
        "te_imgt1 = df_test['image_top_1'].astype(np.int32).values\n",
        "tr_imgt1 = np.expand_dims(tr_imgt1, axis=-1)\n",
        "te_imgt1 = np.expand_dims(te_imgt1, axis=-1)"
      ],
      "execution_count": 0,
      "outputs": []
    },
    {
      "metadata": {
        "id": "qx52xRoYIHF8",
        "colab_type": "text"
      },
      "cell_type": "markdown",
      "source": [
        "### Continuous Variables"
      ]
    },
    {
      "metadata": {
        "id": "sbhZxwkwIHF9",
        "colab_type": "code",
        "colab": {
          "autoexec": {
            "startup": false,
            "wait_interval": 0
          }
        }
      },
      "cell_type": "code",
      "source": [
        "eps = 1e-10\n",
        "tr_price = np.log(df_x_train['price']+eps)\n",
        "te_price = np.log(df_test['price']+eps)\n",
        "tr_price[np.isnan(tr_price)] = -1.\n",
        "te_price[np.isnan(te_price)] = -1.\n",
        "\n",
        "tr_price = np.expand_dims(tr_price, axis=-1)\n",
        "te_price = np.expand_dims(te_price, axis=-1)"
      ],
      "execution_count": 0,
      "outputs": []
    },
    {
      "metadata": {
        "id": "D7LCG_XkIHF-",
        "colab_type": "code",
        "colab": {
          "autoexec": {
            "startup": false,
            "wait_interval": 0
          }
        }
      },
      "cell_type": "code",
      "source": [
        "tr_itemseq = np.log(df_x_train['item_seq_number'])\n",
        "te_itemseq = np.log(df_test['item_seq_number'])\n",
        "# price_tr[price_tr.isna()] = -1.\n",
        "# price_te[price_te.isna()] = -1.\n",
        "\n",
        "tr_itemseq = np.expand_dims(tr_itemseq, axis=-1)\n",
        "te_itemseq = np.expand_dims(te_itemseq, axis=-1)"
      ],
      "execution_count": 0,
      "outputs": []
    },
    {
      "metadata": {
        "id": "CS_CfEI2IHGB",
        "colab_type": "text"
      },
      "cell_type": "markdown",
      "source": [
        "## Text Variable"
      ]
    },
    {
      "metadata": {
        "id": "IU4-W0oRIHGC",
        "colab_type": "text"
      },
      "cell_type": "markdown",
      "source": [
        "## keras_Tokenizer"
      ]
    },
    {
      "metadata": {
        "id": "RZ9IqUq5IHGC",
        "colab_type": "code",
        "colab": {
          "autoexec": {
            "startup": false,
            "wait_interval": 0
          }
        }
      },
      "cell_type": "code",
      "source": [
        "config.len_title = 50\n",
        "config.len_desc = 7500"
      ],
      "execution_count": 0,
      "outputs": []
    },
    {
      "metadata": {
        "id": "sfQKC8jFIHGD",
        "colab_type": "code",
        "colab": {
          "autoexec": {
            "startup": false,
            "wait_interval": 0
          }
        }
      },
      "cell_type": "code",
      "source": [
        "from keras.preprocessing.sequence import pad_sequences"
      ],
      "execution_count": 0,
      "outputs": []
    },
    {
      "metadata": {
        "id": "Przs-YzuIHGH",
        "colab_type": "code",
        "colab": {
          "autoexec": {
            "startup": false,
            "wait_interval": 0
          }
        }
      },
      "cell_type": "code",
      "source": [
        "tknzr_title = Tokenizer(num_words=config.len_title, lower='True')\n",
        "tknzr_desc = Tokenizer(num_words=config.len_desc, lower='True')"
      ],
      "execution_count": 0,
      "outputs": []
    },
    {
      "metadata": {
        "id": "oIocloJrIHGI",
        "colab_type": "code",
        "colab": {
          "autoexec": {
            "startup": false,
            "wait_interval": 0
          }
        }
      },
      "cell_type": "code",
      "source": [
        "tknzr_title.fit_on_texts(df_x_train['title'].values)\n",
        "tknzr_desc.fit_on_texts(df_x_train['description'].values)"
      ],
      "execution_count": 0,
      "outputs": []
    },
    {
      "metadata": {
        "id": "0tsr04QjIHGL",
        "colab_type": "code",
        "colab": {
          "autoexec": {
            "startup": false,
            "wait_interval": 0
          }
        }
      },
      "cell_type": "code",
      "source": [
        "tr_title_seq = tknzr_title.texts_to_sequences(df_x_train['title'].values)\n",
        "te_title_seq = tknzr_title.texts_to_sequences(df_test['title'].values)\n",
        "\n",
        "tr_desc_seq = tknzr_desc.texts_to_sequences(df_x_train['description'].values)\n",
        "te_desc_seq = tknzr_desc.texts_to_sequences(df_test['description'].values)"
      ],
      "execution_count": 0,
      "outputs": []
    },
    {
      "metadata": {
        "id": "g3xBP9bMIHGM",
        "colab_type": "code",
        "colab": {
          "autoexec": {
            "startup": false,
            "wait_interval": 0
          }
        }
      },
      "cell_type": "code",
      "source": [
        "config.maxlen= 100"
      ],
      "execution_count": 0,
      "outputs": []
    },
    {
      "metadata": {
        "id": "uQlF6u2jIHGO",
        "colab_type": "code",
        "colab": {
          "autoexec": {
            "startup": false,
            "wait_interval": 0
          }
        }
      },
      "cell_type": "code",
      "source": [
        "tr_title_pad = pad_sequences(tr_title_seq, maxlen=15)\n",
        "te_title_pad = pad_sequences(te_title_seq, maxlen=15)\n",
        "\n",
        "tr_desc_pad = pad_sequences(tr_desc_seq, maxlen=75)\n",
        "te_desc_pad = pad_sequences(te_desc_seq, maxlen=75)"
      ],
      "execution_count": 0,
      "outputs": []
    },
    {
      "metadata": {
        "id": "pf9DiazsIHGP",
        "colab_type": "code",
        "colab": {
          "autoexec": {
            "startup": false,
            "wait_interval": 0
          }
        }
      },
      "cell_type": "code",
      "source": [
        "gc.collect()"
      ],
      "execution_count": 0,
      "outputs": []
    },
    {
      "metadata": {
        "id": "rXsapySPIHGS",
        "colab_type": "text"
      },
      "cell_type": "markdown",
      "source": [
        "### Configuration"
      ]
    },
    {
      "metadata": {
        "id": "bHtMVi3uIHGS",
        "colab_type": "code",
        "colab": {
          "autoexec": {
            "startup": false,
            "wait_interval": 0
          }
        }
      },
      "cell_type": "code",
      "source": [
        "## categorical\n",
        "config.len_reg = len(tknzr_reg.word_index)+1\n",
        "config.len_pcn = len(tknzr_pcn.word_index)+1\n",
        "config.len_cn = len(tknzr_cn.word_index)+1\n",
        "config.len_ut = len(tknzr_ut.word_index)+1\n",
        "config.len_city = len(tknzr_city.word_index)+1\n",
        "config.len_week = 7\n",
        "config.len_day = 31\n",
        "config.len_imgt1 = int(df_x_train['image_top_1'].max())+1\n",
        "config.len_p1 = len(tknzr_p1.word_index)+1\n",
        "config.len_p2 = len(tknzr_p2.word_index)+1\n",
        "config.len_p3 = len(tknzr_p3.word_index)+1\n",
        "\n",
        "## continuous\n",
        "config.len_price = 1\n",
        "config.len_itemseq = 1\n",
        "\n",
        "#text\n",
        "#config.len_desc = len(tknzr_desc.word_index)"
      ],
      "execution_count": 0,
      "outputs": []
    },
    {
      "metadata": {
        "id": "qCH7XwCeIHGV",
        "colab_type": "code",
        "colab": {
          "autoexec": {
            "startup": false,
            "wait_interval": 0
          }
        }
      },
      "cell_type": "code",
      "source": [
        "## categorical\n",
        "config.emb_reg = 8\n",
        "config.emb_pcn = 4\n",
        "config.emb_cn = 8\n",
        "config.emb_ut = 2\n",
        "config.emb_city = 16\n",
        "config.emb_week = 8\n",
        "config.emb_day = 8\n",
        "config.emb_imgt1 = 16\n",
        "config.emb_p1 = 8\n",
        "config.emb_p2 = 16\n",
        "config.emb_p3 = 16\n",
        "\n",
        "#continuous\n",
        "config.emb_price = 16\n",
        "config.emb_itemseq = 16\n",
        "\n",
        "#text\n",
        "config.emb_title = 10\n",
        "config.emb_desc = 100"
      ],
      "execution_count": 0,
      "outputs": []
    },
    {
      "metadata": {
        "id": "cOTmoZo1IHGY",
        "colab_type": "code",
        "colab": {
          "autoexec": {
            "startup": false,
            "wait_interval": 0
          }
        }
      },
      "cell_type": "code",
      "source": [
        "df_y_train_ = df_y_train.sample(frac=1, random_state=1991)\n",
        "\n",
        "valid_idx = df_y_train_.sample(frac=0.1, random_state=1991).index\n",
        "train_idx = df_y_train_[np.invert(df_y_train_.index.isin(valid_idx))].index"
      ],
      "execution_count": 0,
      "outputs": []
    },
    {
      "metadata": {
        "id": "MtCZdjX0rQLo",
        "colab_type": "code",
        "colab": {
          "autoexec": {
            "startup": false,
            "wait_interval": 0
          }
        }
      },
      "cell_type": "code",
      "source": [
        "train_idx = np.loadtxt('drive/tmp/data/trainIndex.txt', dtype=int)\n",
        "valid_idx = np.loadtxt('drive/tmp/data/validIndex.txt', dtype=int)"
      ],
      "execution_count": 0,
      "outputs": []
    },
    {
      "metadata": {
        "id": "AlUN57OAOqRC",
        "colab_type": "code",
        "colab": {
          "autoexec": {
            "startup": false,
            "wait_interval": 0
          }
        }
      },
      "cell_type": "code",
      "source": [
        "rest_idx = np.loadtxt('drive/tmp/data/restIndex.txt', dtype=int)"
      ],
      "execution_count": 0,
      "outputs": []
    },
    {
      "metadata": {
        "id": "cHj28WCKS7tg",
        "colab_type": "code",
        "colab": {
          "autoexec": {
            "startup": false,
            "wait_interval": 0
          }
        }
      },
      "cell_type": "code",
      "source": [
        "ensenble = df_y_train[np.invert(df_y_train.index.isin(train_idx))]\n",
        "ensenble_index = ensenble[np.invert(ensenble.index.isin(valid_idx))].index"
      ],
      "execution_count": 0,
      "outputs": []
    },
    {
      "metadata": {
        "id": "03wYwZzGUYrq",
        "colab_type": "code",
        "colab": {
          "autoexec": {
            "startup": false,
            "wait_interval": 0
          }
        }
      },
      "cell_type": "code",
      "source": [
        "print(\"total len = {}\".format(len(df_x_train)))\n",
        "\n",
        "print(\"valid len = {}\".format(len(valid_idx)))\n",
        "print(\"train len = {}\".format(len(train_idx)))\n",
        "print(\"rest len = {}\".format(len(ensenble_index)))\n",
        "print(\"combine len = {}\".format(len(valid_idx) + len(train_idx) + len(ensenble_index)))\n",
        "\n",
        "np.savetxt('drive/tmp/data/restIndex.txt', ensenble_index, fmt=\"%d\") "
      ],
      "execution_count": 0,
      "outputs": []
    },
    {
      "metadata": {
        "id": "e83VrbewIHGa",
        "colab_type": "code",
        "colab": {
          "autoexec": {
            "startup": false,
            "wait_interval": 0
          }
        }
      },
      "cell_type": "code",
      "source": [
        "X = np.array([tr_reg, tr_pcn, tr_cn, tr_ut, tr_city, tr_week, tr_day, tr_imgt1, tr_p1, tr_p2, tr_p3,\n",
        "              tr_price, tr_itemseq])\n",
        "X_test = np.array([te_reg, te_pcn, te_cn, te_ut, te_city, te_week, te_day, te_imgt1, te_p1, te_p2, te_p3,\n",
        "                   te_price, te_itemseq])\n",
        "Y = df_y_train"
      ],
      "execution_count": 0,
      "outputs": []
    },
    {
      "metadata": {
        "id": "wX2dllgcO4jz",
        "colab_type": "code",
        "colab": {
          "autoexec": {
            "startup": false,
            "wait_interval": 0
          }
        }
      },
      "cell_type": "code",
      "source": [
        "X_train = [x[rest_idx] for x in X]\n",
        "Y_train = Y[rest_idx]\n",
        "\n",
        "X_train.append(tr_title_pad[rest_idx])\n",
        "X_train.append(tr_desc_pad[rest_idx])"
      ],
      "execution_count": 0,
      "outputs": []
    },
    {
      "metadata": {
        "id": "AXGMfHQcIHGd",
        "colab_type": "code",
        "colab": {
          "autoexec": {
            "startup": false,
            "wait_interval": 0
          }
        }
      },
      "cell_type": "code",
      "source": [
        "X_train = [x[train_idx] for x in X]\n",
        "X_valid = [x[valid_idx] for x in X]\n",
        "X_test = [x for x in X_test]\n",
        "\n",
        "Y_train = Y[train_idx]\n",
        "Y_valid = Y[valid_idx]"
      ],
      "execution_count": 0,
      "outputs": []
    },
    {
      "metadata": {
        "id": "VEHCT0YpIHGf",
        "colab_type": "code",
        "colab": {
          "autoexec": {
            "startup": false,
            "wait_interval": 0
          }
        }
      },
      "cell_type": "code",
      "source": [
        "X_train.append(tr_title_pad[train_idx])\n",
        "X_train.append(tr_desc_pad[train_idx])\n",
        "\n",
        "X_valid.append(tr_title_pad[valid_idx])\n",
        "X_valid.append(tr_desc_pad[valid_idx])\n",
        "\n",
        "X_test.append(te_title_pad)\n",
        "X_test.append(te_desc_pad)"
      ],
      "execution_count": 0,
      "outputs": []
    },
    {
      "metadata": {
        "id": "kfdWpTxTOXIY",
        "colab_type": "code",
        "colab": {
          "autoexec": {
            "startup": false,
            "wait_interval": 0
          }
        }
      },
      "cell_type": "code",
      "source": [
        "with open(\"drive/tmp/data/trainTmp.txt\", \"wb\") as fp:\n",
        "     pickle.dump(X_train, fp)\n",
        "\n",
        "with open(\"drive/tmp/data/testTmp.txt\", \"wb\") as fp:\n",
        "     pickle.dump(X_test, fp)\n",
        "    \n",
        "with open(\"drive/tmp/data/validTmp.txt\", \"wb\") as fp:\n",
        "     pickle.dump(X_valid, fp)"
      ],
      "execution_count": 0,
      "outputs": []
    },
    {
      "metadata": {
        "id": "DPEqUba8Rkg4",
        "colab_type": "text"
      },
      "cell_type": "markdown",
      "source": [
        "# Check Point"
      ]
    },
    {
      "metadata": {
        "id": "27pbPAFcSIpy",
        "colab_type": "code",
        "colab": {
          "autoexec": {
            "startup": false,
            "wait_interval": 0
          }
        }
      },
      "cell_type": "code",
      "source": [
        "import numpy as np\n",
        "import pandas as pd\n",
        "import gc\n",
        "import os\n",
        "import pickle\n",
        "import itertools"
      ],
      "execution_count": 0,
      "outputs": []
    },
    {
      "metadata": {
        "id": "DVOETTx3RLHW",
        "colab_type": "code",
        "colab": {
          "autoexec": {
            "startup": false,
            "wait_interval": 0
          }
        }
      },
      "cell_type": "code",
      "source": [
        "with open(\"drive/tmp/data/trainTmp.txt\", \"rb\") as fp:\n",
        "     X_train = pickle.load(fp)\n",
        "    \n",
        "with open(\"drive/tmp/data/validTmp.txt\", \"rb\") as fp:\n",
        "     X_valid = pickle.load(fp)\n",
        "    \n",
        "with open(\"drive/tmp/data/testTmp.txt\", \"rb\") as fp:\n",
        "     X_test = pickle.load(fp)\n",
        "    \n",
        "with open(\"drive/tmp/data/trainY.txt\", \"rb\") as fp:\n",
        "     Y_train = pickle.load(fp)\n",
        "    \n",
        "with open(\"drive/tmp/data/validY.txt\", \"rb\") as fp:\n",
        "     Y_valid = pickle.load(fp)"
      ],
      "execution_count": 0,
      "outputs": []
    },
    {
      "metadata": {
        "id": "KlFQffcLIHGj",
        "colab_type": "code",
        "colab": {
          "autoexec": {
            "startup": false,
            "wait_interval": 0
          }
        }
      },
      "cell_type": "code",
      "source": [
        "gc.collect()"
      ],
      "execution_count": 0,
      "outputs": []
    },
    {
      "metadata": {
        "id": "EB7OKiXlIHGk",
        "colab_type": "text"
      },
      "cell_type": "markdown",
      "source": [
        "# Keras Model & RMSE Loss"
      ]
    },
    {
      "metadata": {
        "id": "D3K3PKr1IHGl",
        "colab_type": "code",
        "colab": {
          "autoexec": {
            "startup": false,
            "wait_interval": 0
          }
        }
      },
      "cell_type": "code",
      "source": [
        "from keras.layers import Input, Embedding, Dense, Dropout, BatchNormalization, Activation ,regularizers\n",
        "from keras.layers import GlobalMaxPool1D, GlobalAvgPool1D, GlobalMaxPool2D, MaxPool1D, Convolution1D, Flatten\n",
        "from keras.layers import concatenate\n",
        "from keras.layers import LSTM, GRU, CuDNNLSTM, CuDNNGRU, Bidirectional\n",
        "from keras.initializers import Constant\n",
        "from keras.models import Model\n",
        "\n",
        "from keras import backend as K\n",
        "\n",
        "from keras.optimizers import RMSprop, Adam\n",
        "from keras.callbacks import ModelCheckpoint, EarlyStopping\n",
        "\n",
        "### rmse loss for keras\n",
        "def root_mean_squared_error(y_true, y_pred):\n",
        "    return K.sqrt(K.mean(K.square(y_pred - y_true))) "
      ],
      "execution_count": 0,
      "outputs": []
    },
    {
      "metadata": {
        "id": "pe8VrhYOIHGm",
        "colab_type": "code",
        "colab": {
          "autoexec": {
            "startup": false,
            "wait_interval": 0
          }
        }
      },
      "cell_type": "code",
      "source": [
        "config.batch_size = 128"
      ],
      "execution_count": 0,
      "outputs": []
    },
    {
      "metadata": {
        "id": "4pU8iAxW58yd",
        "colab_type": "text"
      },
      "cell_type": "markdown",
      "source": [
        "## ANN model"
      ]
    },
    {
      "metadata": {
        "id": "55UTNENwIHGo",
        "colab_type": "code",
        "colab": {
          "autoexec": {
            "startup": false,
            "wait_interval": 0
          }
        }
      },
      "cell_type": "code",
      "source": [
        "def get_model():\n",
        "    K.clear_session()\n",
        "    \n",
        "    ##### Categorical Variable #####\n",
        "    inp_reg = Input(shape=(1, ), name='inp_region')\n",
        "    emb_reg = Embedding(config.len_reg, config.emb_reg, name='emb_region')(inp_reg)\n",
        "    \n",
        "    inp_pcn = Input(shape=(1, ), name='inp_parent_category_name')\n",
        "    emb_pcn = Embedding(config.len_pcn, config.emb_pcn, name='emb_parent_category_name')(inp_pcn)\n",
        "\n",
        "    inp_cn = Input(shape=(1, ), name='inp_category_name')\n",
        "    emb_cn = Embedding(config.len_cn, config.emb_cn, name=\"emb_category_name\" )(inp_cn)\n",
        "    \n",
        "    inp_ut = Input(shape=(1, ), name='inp_user_type')\n",
        "    emb_ut = Embedding(config.len_ut, config.emb_ut, name='emb_user_type' )(inp_ut)\n",
        "    \n",
        "    inp_city = Input(shape=(1, ), name='inp_city')\n",
        "    emb_city = Embedding(config.len_city, config.emb_city, name='emb_city' )(inp_city)\n",
        "\n",
        "    inp_week = Input(shape=(1, ), name='inp_week')\n",
        "    emb_week = Embedding(config.len_week, config.emb_week, name='emb_week' )(inp_week)\n",
        "    \n",
        "    inp_day = Input(shape=(1, ), name='inp_day')\n",
        "    emb_day = Embedding(config.len_day, config.emb_day, name='emb_day' )(inp_day)\n",
        "\n",
        "    inp_imgt1 = Input(shape=(1, ), name='inp_imgt1')\n",
        "    emb_imgt1 = Embedding(config.len_imgt1, config.emb_imgt1, name='emb_imgt1')(inp_imgt1)\n",
        "    \n",
        "    inp_p1 = Input(shape=(1, ), name='inp_p1')\n",
        "    emb_p1 = Embedding(config.len_p1, config.emb_p1, name='emb_p1')(inp_p1)\n",
        "    \n",
        "    inp_p2 = Input(shape=(1, ), name='inp_p2')\n",
        "    emb_p2 = Embedding(config.len_p2, config.emb_p2, name='emb_p2')(inp_p2)\n",
        "    \n",
        "    inp_p3 = Input(shape=(1, ), name='inp_p3')\n",
        "    emb_p3 = Embedding(config.len_p3, config.emb_p3, name='emb_p3')(inp_p3)\n",
        "    \n",
        "    conc_cate = concatenate([emb_reg, emb_pcn,  emb_cn, emb_ut, emb_city, emb_week, emb_day, emb_imgt1, emb_p1, emb_p2, emb_p3], axis=-1, name='concat_categorcal_vars')\n",
        "    #conc_cate = BatchNormalization()(conc_cate)\n",
        "    conc_cate = GlobalMaxPool1D()(conc_cate)\n",
        "    \n",
        "    \n",
        "    ##### Continuous Variable #####\n",
        "    inp_price = Input(shape=(1, ), name='inp_price')\n",
        "    emb_price = Dense(config.emb_price, activation='tanh', name='emb_price')(inp_price)\n",
        "\n",
        "    inp_itemseq = Input(shape=(1, ), name='inp_itemseq')\n",
        "    emb_itemseq = Dense(config.emb_itemseq, activation='tanh', name='emb_itemseq')(inp_itemseq)\n",
        "    \n",
        "    conc_cont = concatenate([conc_cate, emb_price, emb_itemseq], axis=-1)\n",
        "    \n",
        "    x = BatchNormalization()(conc_cont)\n",
        "    x = Dense(142, kernel_initializer='he_normal', activation='elu')(x)\n",
        "    x = Dense(142, kernel_initializer='he_normal', activation='elu')(x)\n",
        "    \n",
        "\n",
        "    ##### Text #####\n",
        "    inp_title = Input(shape=(15, ), name='inp_title')\n",
        "    emb_title = Embedding(config.len_title, config.emb_title, name='emb_title')(inp_title)\n",
        "    title_layer = Bidirectional( CuDNNGRU(50, return_sequences=False) )(emb_title)\n",
        "    \n",
        "    inp_desc = Input(shape=(75, ), name='inp_desc')\n",
        "    emb_desc = Embedding(config.len_desc, config.emb_desc, name='emb_desc')(inp_desc)\n",
        "    desc_layer = Bidirectional( CuDNNGRU(100, return_sequences=False) )(emb_desc)\n",
        "    \n",
        "    conc_desc = concatenate([x, title_layer, desc_layer], axis=-1)\n",
        "    \n",
        "    outp = Dense(1, activation='sigmoid', name='output')(conc_desc)\n",
        "    \n",
        "    model = Model(inputs = [inp_reg, inp_pcn, inp_cn, inp_ut, inp_city, inp_week, inp_day, inp_imgt1, inp_p1, inp_p2, inp_p3,\n",
        "                            inp_price, inp_itemseq, inp_title, inp_desc], outputs = outp)\n",
        "    return model"
      ],
      "execution_count": 0,
      "outputs": []
    },
    {
      "metadata": {
        "id": "KSJXnNvvIHGq",
        "colab_type": "code",
        "colab": {
          "autoexec": {
            "startup": false,
            "wait_interval": 0
          }
        }
      },
      "cell_type": "code",
      "source": [
        "model = get_model()\n",
        "model.compile(optimizer=Adam(lr=0.001, decay=0.0001), loss = root_mean_squared_error, metrics=['mse', root_mean_squared_error])\n",
        "#model.compile(optimizer=RMSprop(lr=0.0005, decay=0.00001), loss = root_mean_squared_error, metrics=['mse', root_mean_squared_error])\n",
        "model.summary()"
      ],
      "execution_count": 0,
      "outputs": []
    },
    {
      "metadata": {
        "id": "to7CE22zIHGs",
        "colab_type": "code",
        "colab": {
          "autoexec": {
            "startup": false,
            "wait_interval": 0
          }
        }
      },
      "cell_type": "code",
      "source": [
        "### callbacks\n",
        "checkpoint = ModelCheckpoint('drive/tmp/model/best_nn_p1.hdf5', monitor='val_loss', verbose=1, save_best_only=True)\n",
        "early = EarlyStopping(patience=10, mode='min')"
      ],
      "execution_count": 0,
      "outputs": []
    },
    {
      "metadata": {
        "id": "UtbI2zanIHGt",
        "colab_type": "code",
        "colab": {
          "autoexec": {
            "startup": false,
            "wait_interval": 0
          }
        }
      },
      "cell_type": "code",
      "source": [
        "model.fit(x=X_train, y=np.array(Y_train), validation_data=(X_valid, Y_valid), batch_size=config.batch_size, epochs=50, callbacks=[checkpoint,early], verbose=1)"
      ],
      "execution_count": 0,
      "outputs": []
    },
    {
      "metadata": {
        "id": "mNYNMzZH6AKI",
        "colab_type": "text"
      },
      "cell_type": "markdown",
      "source": [
        "## LightGBM"
      ]
    },
    {
      "metadata": {
        "id": "f9xzdUzxIHGy",
        "colab_type": "code",
        "colab": {
          "autoexec": {
            "startup": false,
            "wait_interval": 0
          }
        }
      },
      "cell_type": "code",
      "source": [
        "d_train = lgb.Dataset(np.array(train_X), label=np.array(Y_train))\n",
        "d_valid = lgb.Dataset(np.array(valid_X), label=np.array(Y_valid))\n",
        "\n",
        "params = {\n",
        "'task': 'train',\n",
        "'boosting_type': 'gbdt',\n",
        "'objective': 'rmse',\n",
        "'metric': {'l1', 'l2', 'rmse'},\n",
        "'is_training_metric': True,\n",
        "'metric_freq': 5,\n",
        "'num_leaves': 300,\n",
        "'max_depth': 10,\n",
        "'min_data_in_leaf': 20,\n",
        "'learning_rate': 0.01,\n",
        "'feature_fraction': 0.5,\n",
        "'bagging_fraction': 0.75,\n",
        "'bagging_freq': 1,\n",
        "'bagging_seed': 3,\n",
        "'verbose': 1,\n",
        "}\n",
        "\n",
        "\n",
        "clf = lgb.train(params, d_train, num_boost_round=5000, valid_sets=d_valid, early_stopping_rounds=30)"
      ],
      "execution_count": 0,
      "outputs": []
    },
    {
      "metadata": {
        "id": "PAc3VQUOIHGz",
        "colab_type": "code",
        "colab": {
          "autoexec": {
            "startup": false,
            "wait_interval": 0
          }
        }
      },
      "cell_type": "code",
      "source": [
        "def my_custom_loss_func(ground_truth, predictions):\n",
        "    diff = np.sqrt(np.mean(np.square(ground_truth - predictions)))\n",
        "    return diff\n",
        "\n",
        "y_pred=clf.predict(valid_X)\n",
        "\n",
        "print(\"loss: {}\".format(my_custom_loss_func(y_pred,np.array(Y_valid))))"
      ],
      "execution_count": 0,
      "outputs": []
    },
    {
      "metadata": {
        "id": "CnNAzQLRIHG1",
        "colab_type": "text"
      },
      "cell_type": "markdown",
      "source": [
        "# Model Visualization"
      ]
    },
    {
      "metadata": {
        "id": "G2CfkyOLIHG2",
        "colab_type": "code",
        "colab": {
          "autoexec": {
            "startup": false,
            "wait_interval": 0
          }
        }
      },
      "cell_type": "code",
      "source": [
        "from IPython.display import SVG\n",
        "from keras.utils.vis_utils import model_to_dot\n",
        "\n",
        "SVG(model_to_dot(model).create(prog='dot', format='svg'))"
      ],
      "execution_count": 0,
      "outputs": []
    },
    {
      "metadata": {
        "id": "ThF8aM_uIHG3",
        "colab_type": "text"
      },
      "cell_type": "markdown",
      "source": [
        "# Test & submit"
      ]
    },
    {
      "metadata": {
        "id": "Ibx4Z-jAIHG4",
        "colab_type": "code",
        "colab": {
          "autoexec": {
            "startup": false,
            "wait_interval": 0
          }
        }
      },
      "cell_type": "code",
      "source": [
        "model.load_weights('drive/tmp/model/best_bi_nlp.hdf5')\n",
        "pred = model.predict(X_test)\n",
        "\n",
        "subm = pd.read_csv(\"drive/tmp/data/sample_submission.csv\")\n",
        "subm['deal_probability'] = pred\n",
        "subm.to_csv('drive/tmp/data/submit_{}_{:.4f}.csv'.format('nn_p3', 0.2214), index=False)"
      ],
      "execution_count": 0,
      "outputs": []
    }
  ]
}